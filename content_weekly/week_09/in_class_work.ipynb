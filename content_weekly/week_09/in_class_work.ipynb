{
 "cells": [
  {
   "cell_type": "code",
   "execution_count": null,
   "id": "787447d6",
   "metadata": {},
   "outputs": [
    {
     "ename": "NameError",
     "evalue": "name 'words' is not defined",
     "output_type": "error",
     "traceback": [
      "\u001b[31m---------------------------------------------------------------------------\u001b[39m",
      "\u001b[31mNameError\u001b[39m                                 Traceback (most recent call last)",
      "\u001b[36mCell\u001b[39m\u001b[36m \u001b[39m\u001b[32mIn[21]\u001b[39m\u001b[32m, line 11\u001b[39m\n\u001b[32m      5\u001b[39m     \u001b[38;5;28;01mreturn\u001b[39;00m(words)\n\u001b[32m      6\u001b[39m \u001b[38;5;66;03m#    for i in range(len(words)):\u001b[39;00m\n\u001b[32m      7\u001b[39m  \u001b[38;5;66;03m#       i.title\u001b[39;00m\n\u001b[32m      8\u001b[39m   \u001b[38;5;66;03m#      text = ' '.join(words)\u001b[39;00m\n\u001b[32m      9\u001b[39m    \u001b[38;5;66;03m#     return ''.join(text)\u001b[39;00m\n\u001b[32m---> \u001b[39m\u001b[32m11\u001b[39m \u001b[38;5;28mprint\u001b[39m(\u001b[43mwords\u001b[49m)\n",
      "\u001b[31mNameError\u001b[39m: name 'words' is not defined"
     ]
    }
   ],
   "source": [
    "in_text = \"the_stealth_warrior\"\n",
    "\n",
    "def toCamelCase(text):\n",
    "    words = text.split('_') #returns list of words in a new string   \n",
    "    return(words)\n",
    "#    for i in range(len(words)):\n",
    " #       i.title\n",
    "  #      text = ' '.join(words)\n",
    "   #     return ''.join(text)\n",
    "\n"
   ]
  },
  {
   "cell_type": "code",
   "execution_count": null,
   "id": "76b36e8a",
   "metadata": {},
   "outputs": [],
   "source": []
  }
 ],
 "metadata": {
  "kernelspec": {
   "display_name": "hwrs564a",
   "language": "python",
   "name": "hwrs564a"
  },
  "language_info": {
   "codemirror_mode": {
    "name": "ipython",
    "version": 3
   },
   "file_extension": ".py",
   "mimetype": "text/x-python",
   "name": "python",
   "nbconvert_exporter": "python",
   "pygments_lexer": "ipython3",
   "version": "3.11.13"
  }
 },
 "nbformat": 4,
 "nbformat_minor": 5
}
