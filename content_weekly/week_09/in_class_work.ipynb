{
 "cells": [
  {
   "cell_type": "code",
   "execution_count": 23,
   "id": "787447d6",
   "metadata": {},
   "outputs": [],
   "source": [
    "in_text = \"the_stealth_warrior\"\n",
    "\n",
    "def toCamelCase(text):\n",
    "    words = text.split('_') #returns list of words in a new string   \n",
    "    for i in range(1, len(words)):\n",
    "        i.title\n",
    "        text = words\n",
    "        return ''.join(text)\n",
    "    print(text)\n",
    "\n"
   ]
  },
  {
   "cell_type": "code",
   "execution_count": null,
   "id": "76b36e8a",
   "metadata": {},
   "outputs": [],
   "source": []
  }
 ],
 "metadata": {
  "kernelspec": {
   "display_name": "hwrs564a",
   "language": "python",
   "name": "hwrs564a"
  },
  "language_info": {
   "codemirror_mode": {
    "name": "ipython",
    "version": 3
   },
   "file_extension": ".py",
   "mimetype": "text/x-python",
   "name": "python",
   "nbconvert_exporter": "python",
   "pygments_lexer": "ipython3",
   "version": "3.11.13"
  }
 },
 "nbformat": 4,
 "nbformat_minor": 5
}
